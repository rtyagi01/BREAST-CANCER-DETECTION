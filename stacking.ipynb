{
  "nbformat": 4,
  "nbformat_minor": 0,
  "metadata": {
    "colab": {
      "provenance": [],
      "authorship_tag": "ABX9TyNT3doWDFNCqRTUMJjfksrF",
      "include_colab_link": true
    },
    "kernelspec": {
      "name": "python3",
      "display_name": "Python 3"
    },
    "language_info": {
      "name": "python"
    }
  },
  "cells": [
    {
      "cell_type": "markdown",
      "metadata": {
        "id": "view-in-github",
        "colab_type": "text"
      },
      "source": [
        "<a href=\"https://colab.research.google.com/github/sakshamsomani2345/Breast-Cancer-Detection/blob/main/stacking.ipynb\" target=\"_parent\"><img src=\"https://colab.research.google.com/assets/colab-badge.svg\" alt=\"Open In Colab\"/></a>"
      ]
    },
    {
      "cell_type": "code",
      "source": [
        "from google.colab import drive\n",
        "drive.mount('/content/drive/')"
      ],
      "metadata": {
        "colab": {
          "base_uri": "https://localhost:8080/"
        },
        "id": "XXnW_hbmxdEX",
        "outputId": "a8911b35-7151-49f3-f995-9a4723ccc059"
      },
      "execution_count": 1,
      "outputs": [
        {
          "output_type": "stream",
          "name": "stdout",
          "text": [
            "Mounted at /content/drive/\n"
          ]
        }
      ]
    },
    {
      "cell_type": "code",
      "execution_count": 5,
      "metadata": {
        "colab": {
          "base_uri": "https://localhost:8080/"
        },
        "id": "sjmOgwEKTiKD",
        "outputId": "ec8df6bb-1ab4-4d8e-8188-5d474f5d029e"
      },
      "outputs": [
        {
          "output_type": "stream",
          "name": "stderr",
          "text": [
            "<ipython-input-5-ceebbf2173d3>:18: FutureWarning: In a future version of pandas all arguments of DataFrame.drop except for the argument 'labels' will be keyword-only.\n",
            "  df.drop(['Unnamed: 32'],1,inplace=True)\n"
          ]
        },
        {
          "output_type": "stream",
          "name": "stdout",
          "text": [
            "('knn', 0.7698435277382646, 0.0726464782127407)\n",
            "('svm', 0.6274063537221433, 0.009029698485996211)\n",
            "('stacking', 0.5149359886201992, 0.10019180634992224)\n"
          ]
        }
      ],
      "source": [
        "from numpy import mean\n",
        "from numpy import std\n",
        "import pandas as pd\n",
        "from sklearn.datasets import make_classification\n",
        "from sklearn.model_selection import cross_val_score\n",
        "from sklearn.model_selection import RepeatedStratifiedKFold\n",
        "from sklearn.linear_model import LogisticRegression\n",
        "from sklearn.svm import SVC\n",
        "from sklearn.neighbors import KNeighborsClassifier\n",
        "from sklearn.tree import DecisionTreeClassifier\n",
        "from sklearn.svm import SVC\n",
        "from sklearn.naive_bayes import GaussianNB\n",
        "from sklearn.ensemble import StackingClassifier\n",
        "from matplotlib import pyplot\n",
        "from sklearn.preprocessing import LabelEncoder\n",
        "def get_dataset():\n",
        "  df = pd.read_csv('/content/drive/MyDrive/data.csv')\n",
        "  df.drop(['Unnamed: 32'],1,inplace=True)\n",
        "  LEncoder = LabelEncoder()\n",
        "  df['diagnosis'] = LEncoder.fit_transform(df['diagnosis'])\n",
        "  X = df.drop('diagnosis',axis=1).values\n",
        "  y = df['diagnosis'].values\n",
        "  return X, y\n",
        "\n",
        "def get_stacking():\n",
        "\tlevel0 = list()\n",
        "\tlevel0.append(('knn', KNeighborsClassifier()))\n",
        "\tlevel0.append(('svm', SVC()))\n",
        "\tlevel1 = KNeighborsClassifier()\n",
        "\tmodel = StackingClassifier(estimators=level0, final_estimator=level1, cv=2)\n",
        "\treturn model\n",
        "\n",
        "def get_models():\n",
        "\tmodels = dict()\n",
        "\tmodels['knn'] = KNeighborsClassifier()\n",
        "\tmodels['svm'] = SVC()\n",
        "\tmodels['stacking'] = get_stacking()\n",
        "\treturn models\n",
        "\n",
        "def evaluate_model(model, X, y):\n",
        "\tcv = RepeatedStratifiedKFold(n_splits=15, n_repeats=1, random_state=5)\n",
        "\tscores = cross_val_score(model, X, y, scoring='accuracy', cv=cv, n_jobs=-1, error_score='raise')\n",
        "\treturn scores\n",
        "\n",
        "from sklearn.metrics import precision_score\n",
        "X, y = get_dataset()\n",
        "models = get_models()\n",
        "results, names = list(), list()\n",
        "for name, model in models.items():\n",
        "\tscores = evaluate_model(model, X, y)\n",
        "\tresults.append(scores)\n",
        "\tnames.append(name)\n",
        "\tprint((name, mean(scores), std(scores)))\n"
      ]
    },
    {
      "cell_type": "code",
      "source": [],
      "metadata": {
        "id": "ZNhK4G8pxcCv"
      },
      "execution_count": null,
      "outputs": []
    },
    {
      "cell_type": "code",
      "source": [],
      "metadata": {
        "id": "9pkDZqNxWLST"
      },
      "execution_count": null,
      "outputs": []
    }
  ]
}